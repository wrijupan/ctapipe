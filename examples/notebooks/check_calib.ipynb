{
 "cells": [
  {
   "cell_type": "markdown",
   "metadata": {},
   "source": [
    "## Test if the calibration is doing what I expect\n",
    "\n",
    "This calculates residual offsets from that calibrated images by applying a tailcut + some dilation around the signal, and using non-signal pixels as background."
   ]
  },
  {
   "cell_type": "code",
   "execution_count": 1,
   "metadata": {},
   "outputs": [],
   "source": [
    "from ctapipe.io.hessio import hessio_event_source\n",
    "from ctapipe.utils import datasets\n",
    "from ctapipe.calib import CameraCalibrator\n",
    "from ctapipe.image import tailcuts_clean, dilate\n",
    "from ctapipe.visualization import CameraDisplay\n",
    "from ctapipe.instrument import CameraGeometry\n",
    "import matplotlib.pyplot as plt\n",
    "import numpy as np\n",
    "from tqdm import tqdm_notebook, tqdm\n",
    "from scipy.stats import poisson\n",
    "import os\n",
    "%matplotlib inline"
   ]
  },
  {
   "cell_type": "code",
   "execution_count": 2,
   "metadata": {},
   "outputs": [],
   "source": [
    "cal = CameraCalibrator(None,None)"
   ]
  },
  {
   "cell_type": "code",
   "execution_count": 54,
   "metadata": {},
   "outputs": [],
   "source": [
    "hists = {}\n",
    "\n",
    "def process_pedestal(event, output=False):\n",
    "    global hists\n",
    "\n",
    "    for tel in event.dl0.tels_with_data:\n",
    "        geom = CameraGeometry.guess(*event.inst.pixel_pos[tel], event.inst.optical_foclen[tel])\n",
    "        im = event.dl1.tel[tel].image[0]\n",
    "\n",
    "        # select pixels that are not signal and calculate means and std of them (they should be pedestals):\n",
    "        mask = tailcuts_clean(geom, im, picture_thresh=14, boundary_thresh=7)\n",
    "        for ii in range(3):\n",
    "            mask = dilate(geom, mask)\n",
    "\n",
    "        if output:\n",
    "            print(\"evt:{:10d} tel: {:03d}/{:10.10s} mean: {:5.3f} std: {:5.3f}\"\\\n",
    "                  .format(event.dl0.event_id, tel, geom.cam_id, \n",
    "                          im[~mask].mean(), im[~mask].std()))\n",
    "        \n",
    "        hist, ed = np.histogram(im[~mask], bins=200, range=[-10,10])\n",
    "\n",
    "        if geom.cam_id in hists:\n",
    "            hists[geom.cam_id][0] += hist\n",
    "            hists[geom.cam_id][2] += len(im[~mask]) # counter\n",
    "        else:\n",
    "            hists[geom.cam_id] = [hist,ed,len(im[~mask])]\n"
   ]
  },
  {
   "cell_type": "markdown",
   "metadata": {},
   "source": [
    "Loop over events in a file and collect residual statistics on all images"
   ]
  },
  {
   "cell_type": "code",
   "execution_count": 55,
   "metadata": {},
   "outputs": [
    {
     "data": {
      "application/vnd.jupyter.widget-view+json": {
       "model_id": "b1a2a80394934eb18205d1dd42938d86"
      }
     },
     "metadata": {},
     "output_type": "display_data"
    },
    {
     "name": "stdout",
     "output_type": "stream",
     "text": [
      "\n"
     ]
    }
   ],
   "source": [
    "os.environ['CTAPIPE_SVC_PATH']='/Users/kosack/Data/CTA/Prod3'  # so I can also use my larger test files\n",
    "hists = {} \n",
    "\n",
    "infile = datasets.get_dataset('gamma_test_large.simtel.gz')  # from ctapipe_resources\n",
    "#infile = datasets.get_dataset('gamma_20deg_180deg_run1000___cta-prod3-demo_desert-2150m-Paranal-demo2rad_cone10.simtel.gz')  # from my dir\n",
    "\n",
    "for event in tqdm_notebook(hessio_event_source(infile, max_events=100), total=100):\n",
    "    cal.calibrate(event)\n",
    "    process_pedestal(event)"
   ]
  },
  {
   "cell_type": "code",
   "execution_count": 56,
   "metadata": {},
   "outputs": [
    {
     "data": {
      "text/plain": [
       "<matplotlib.text.Text at 0x1191a18d0>"
      ]
     },
     "execution_count": 56,
     "metadata": {},
     "output_type": "execute_result"
    },
    {
     "data": {
      "image/png": "[encoded data removed]",
      "text/plain": [
       "<matplotlib.figure.Figure at 0x11be4f240>"
      ]
     },
     "metadata": {},
     "output_type": "display_data"
    }
   ],
   "source": [
    "plt.figure(figsize=(15,6))\n",
    "\n",
    "#poiss = poiss/poiss.max()\n",
    "for cam in hists:\n",
    "    X = hists[cam][1][1:]\n",
    "    H = hists[cam][0]\n",
    "    plt.plot(X, H/H.max(), label=cam, ls='steps')\n",
    "\n",
    "\n",
    "plt.xlabel(\"Effective PE\")\n",
    "plt.ylabel(\"Frequency (norm to peak)\")\n",
    "plt.legend()\n",
    "plt.title(\"Residual signals after calibration\")"
   ]
  }
 ],
 "metadata": {
  "kernelspec": {
   "display_name": "Python 3",
   "language": "python",
   "name": "python3"
  },
  "language_info": {
   "codemirror_mode": {
    "name": "ipython",
    "version": 3
   },
   "file_extension": ".py",
   "mimetype": "text/x-python",
   "name": "python",
   "nbconvert_exporter": "python",
   "pygments_lexer": "ipython3",
   "version": "3.6.1"
  }
 },
 "nbformat": 4,
 "nbformat_minor": 2
}
